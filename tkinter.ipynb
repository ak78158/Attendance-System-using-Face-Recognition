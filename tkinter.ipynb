{
 "cells": [
  {
   "cell_type": "code",
   "execution_count": 5,
   "metadata": {},
   "outputs": [],
   "source": [
    "# Simple enough, just import everything from tkinter.\n",
    "from tkinter import *\n",
    "\n",
    "\n",
    "#download and install pillow:\n",
    "# http://www.lfd.uci.edu/~gohlke/pythonlibs/#pillow\n",
    "from PIL import Image, ImageTk\n",
    "\n",
    "\n",
    "# Here, we are creating our class, Window, and inheriting from the Frame\n",
    "# class. Frame is a class from the tkinter module. (see Lib/tkinter/__init__)\n",
    "class Window(Frame):\n",
    "\n",
    "    # Define settings upon initialization. Here you can specify\n",
    "    def __init__(self, master=None):\n",
    "        \n",
    "        # parameters that you want to send through the Frame class. \n",
    "        Frame.__init__(self, master)   \n",
    "\n",
    "        #reference to the master widget, which is the tk window                 \n",
    "        self.master = master\n",
    "\n",
    "        #with that, we want to then run init_window, which doesn't yet exist\n",
    "        self.init_window()\n",
    "\n",
    "    #Creation of init_window\n",
    "    def init_window(self):\n",
    "\n",
    "        # changing the title of our master widget      \n",
    "        self.master.title(\"GUI\")\n",
    "\n",
    "        # allowing the widget to take the full space of the root window\n",
    "        self.pack(fill=BOTH, expand=1)\n",
    "\n",
    "        # creating a menu instance\n",
    "        menu = Menu(self.master)\n",
    "        self.master.config(menu=menu)\n",
    "\n",
    "        # create the file object)\n",
    "        file = Menu(menu)\n",
    "\n",
    "        # adds a command to the menu option, calling it exit, and the\n",
    "        # command it runs on event is client_exit\n",
    "        file.add_command(label=\"Exit\", command=self.client_exit)\n",
    "\n",
    "        #added \"file\" to our menu\n",
    "        menu.add_cascade(label=\"File\", menu=file)\n",
    "\n",
    "\n",
    "        # create the file object)\n",
    "        edit = Menu(menu)\n",
    "\n",
    "        # adds a command to the menu option, calling it exit, and the\n",
    "        # command it runs on event is client_exit\n",
    "        edit.add_command(label=\"Show Img\", command=self.showImg)\n",
    "        edit.add_command(label=\"Show Text\", command=self.showText)\n",
    "\n",
    "        #added \"file\" to our menu\n",
    "        menu.add_cascade(label=\"Edit\", menu=edit)\n",
    "\n",
    "    def showImg(self):\n",
    "        load = Image.open(\"bg1.png\")\n",
    "        render = ImageTk.PhotoImage(load)\n",
    "\n",
    "        # labels can be text or images\n",
    "        img = Label(self, image=render)\n",
    "        img.image = render\n",
    "        img.place(x=0, y=0)\n",
    "\n",
    "\n",
    "    def showText(self):\n",
    "        text = Label(self, text=\"Hey there good lookin!\")\n",
    "        text.pack()\n",
    "        \n",
    "\n",
    "    def client_exit(self):\n",
    "        exit()\n",
    "\n",
    "\n",
    "# root window created. Here, that would be the only window, but\n",
    "# you can later have windows within windows.\n",
    "root = Tk()\n",
    "\n",
    "root.geometry(\"400x300\")\n",
    "\n",
    "#creation of an instance\n",
    "app = Window(root)\n",
    "\n",
    "\n",
    "#mainloop \n",
    "root.mainloop() "
   ]
  },
  {
   "cell_type": "code",
   "execution_count": 10,
   "metadata": {
    "scrolled": true
   },
   "outputs": [
    {
     "name": "stdout",
     "output_type": "stream",
     "text": [
      "8.6\n"
     ]
    }
   ],
   "source": [
    "import tkinter\n",
    "print(tkinter.TkVersion)"
   ]
  },
  {
   "cell_type": "code",
   "execution_count": 3,
   "metadata": {},
   "outputs": [
    {
     "ename": "TclError",
     "evalue": "image \"pyimage2\" doesn't exist",
     "output_type": "error",
     "traceback": [
      "\u001b[1;31m---------------------------------------------------------------------------\u001b[0m",
      "\u001b[1;31mTclError\u001b[0m                                  Traceback (most recent call last)",
      "\u001b[1;32m<ipython-input-3-45a77b834b8d>\u001b[0m in \u001b[0;36m<module>\u001b[1;34m()\u001b[0m\n\u001b[0;32m     11\u001b[0m \u001b[0mimage\u001b[0m \u001b[1;33m=\u001b[0m \u001b[0mImage\u001b[0m\u001b[1;33m.\u001b[0m\u001b[0mopen\u001b[0m\u001b[1;33m(\u001b[0m\u001b[1;34m\"bg1.png\"\u001b[0m\u001b[1;33m)\u001b[0m\u001b[1;33m\u001b[0m\u001b[1;33m\u001b[0m\u001b[0m\n\u001b[0;32m     12\u001b[0m \u001b[0mphoto\u001b[0m \u001b[1;33m=\u001b[0m \u001b[0mImageTk\u001b[0m\u001b[1;33m.\u001b[0m\u001b[0mPhotoImage\u001b[0m\u001b[1;33m(\u001b[0m\u001b[0mimage\u001b[0m\u001b[1;33m)\u001b[0m\u001b[1;33m\u001b[0m\u001b[1;33m\u001b[0m\u001b[0m\n\u001b[1;32m---> 13\u001b[1;33m \u001b[0mlabel\u001b[0m \u001b[1;33m=\u001b[0m \u001b[0mtk\u001b[0m\u001b[1;33m.\u001b[0m\u001b[0mLabel\u001b[0m\u001b[1;33m(\u001b[0m\u001b[0mroot\u001b[0m\u001b[1;33m,\u001b[0m \u001b[0mimage\u001b[0m\u001b[1;33m=\u001b[0m\u001b[0mphoto\u001b[0m\u001b[1;33m)\u001b[0m\u001b[1;33m\u001b[0m\u001b[1;33m\u001b[0m\u001b[0m\n\u001b[0m\u001b[0;32m     14\u001b[0m \u001b[0mlabel\u001b[0m\u001b[1;33m.\u001b[0m\u001b[0mimg\u001b[0m \u001b[1;33m=\u001b[0m \u001b[0mphoto\u001b[0m \u001b[1;31m# this line is not always needed, but include it anyway to prevent bugs\u001b[0m\u001b[1;33m\u001b[0m\u001b[1;33m\u001b[0m\u001b[0m\n\u001b[0;32m     15\u001b[0m \u001b[0mlabel\u001b[0m\u001b[1;33m.\u001b[0m\u001b[0mpack\u001b[0m\u001b[1;33m(\u001b[0m\u001b[1;33m)\u001b[0m\u001b[1;33m\u001b[0m\u001b[1;33m\u001b[0m\u001b[0m\n",
      "\u001b[1;32m~\\Anaconda3\\lib\\tkinter\\__init__.py\u001b[0m in \u001b[0;36m__init__\u001b[1;34m(self, master, cnf, **kw)\u001b[0m\n\u001b[0;32m   2764\u001b[0m \u001b[1;33m\u001b[0m\u001b[0m\n\u001b[0;32m   2765\u001b[0m         \"\"\"\n\u001b[1;32m-> 2766\u001b[1;33m         \u001b[0mWidget\u001b[0m\u001b[1;33m.\u001b[0m\u001b[0m__init__\u001b[0m\u001b[1;33m(\u001b[0m\u001b[0mself\u001b[0m\u001b[1;33m,\u001b[0m \u001b[0mmaster\u001b[0m\u001b[1;33m,\u001b[0m \u001b[1;34m'label'\u001b[0m\u001b[1;33m,\u001b[0m \u001b[0mcnf\u001b[0m\u001b[1;33m,\u001b[0m \u001b[0mkw\u001b[0m\u001b[1;33m)\u001b[0m\u001b[1;33m\u001b[0m\u001b[1;33m\u001b[0m\u001b[0m\n\u001b[0m\u001b[0;32m   2767\u001b[0m \u001b[1;33m\u001b[0m\u001b[0m\n\u001b[0;32m   2768\u001b[0m \u001b[1;32mclass\u001b[0m \u001b[0mListbox\u001b[0m\u001b[1;33m(\u001b[0m\u001b[0mWidget\u001b[0m\u001b[1;33m,\u001b[0m \u001b[0mXView\u001b[0m\u001b[1;33m,\u001b[0m \u001b[0mYView\u001b[0m\u001b[1;33m)\u001b[0m\u001b[1;33m:\u001b[0m\u001b[1;33m\u001b[0m\u001b[1;33m\u001b[0m\u001b[0m\n",
      "\u001b[1;32m~\\Anaconda3\\lib\\tkinter\\__init__.py\u001b[0m in \u001b[0;36m__init__\u001b[1;34m(self, master, widgetName, cnf, kw, extra)\u001b[0m\n\u001b[0;32m   2297\u001b[0m             \u001b[1;32mdel\u001b[0m \u001b[0mcnf\u001b[0m\u001b[1;33m[\u001b[0m\u001b[0mk\u001b[0m\u001b[1;33m]\u001b[0m\u001b[1;33m\u001b[0m\u001b[1;33m\u001b[0m\u001b[0m\n\u001b[0;32m   2298\u001b[0m         self.tk.call(\n\u001b[1;32m-> 2299\u001b[1;33m             (widgetName, self._w) + extra + self._options(cnf))\n\u001b[0m\u001b[0;32m   2300\u001b[0m         \u001b[1;32mfor\u001b[0m \u001b[0mk\u001b[0m\u001b[1;33m,\u001b[0m \u001b[0mv\u001b[0m \u001b[1;32min\u001b[0m \u001b[0mclasses\u001b[0m\u001b[1;33m:\u001b[0m\u001b[1;33m\u001b[0m\u001b[1;33m\u001b[0m\u001b[0m\n\u001b[0;32m   2301\u001b[0m             \u001b[0mk\u001b[0m\u001b[1;33m.\u001b[0m\u001b[0mconfigure\u001b[0m\u001b[1;33m(\u001b[0m\u001b[0mself\u001b[0m\u001b[1;33m,\u001b[0m \u001b[0mv\u001b[0m\u001b[1;33m)\u001b[0m\u001b[1;33m\u001b[0m\u001b[1;33m\u001b[0m\u001b[0m\n",
      "\u001b[1;31mTclError\u001b[0m: image \"pyimage2\" doesn't exist"
     ]
    }
   ],
   "source": [
    "from PIL import Image, ImageTk\n",
    "import tkinter as tk\n",
    "import numpy as np \n",
    "import cv2 \n",
    "  \n",
    "# You can give path to the \n",
    "# image as first argument \n",
    "img = cv2.imread('bg1.png', 1)   \n",
    "root = tk.Tk()\n",
    "\n",
    "image = Image.open(\"bg1.png\")\n",
    "photo = ImageTk.PhotoImage(image)\n",
    "label = tk.Label(root, image=photo)\n",
    "label.img = photo # this line is not always needed, but include it anyway to prevent bugs\n",
    "label.pack()\n",
    "\n",
    "root.mainloop()"
   ]
  },
  {
   "cell_type": "code",
   "execution_count": 5,
   "metadata": {},
   "outputs": [
    {
     "ename": "TclError",
     "evalue": "image \"pyimage2\" doesn't exist",
     "output_type": "error",
     "traceback": [
      "\u001b[1;31m---------------------------------------------------------------------------\u001b[0m",
      "\u001b[1;31mTclError\u001b[0m                                  Traceback (most recent call last)",
      "\u001b[1;32m<ipython-input-5-45c1ad242694>\u001b[0m in \u001b[0;36m<module>\u001b[1;34m()\u001b[0m\n\u001b[0;32m      4\u001b[0m \u001b[0mroot\u001b[0m \u001b[1;33m=\u001b[0m \u001b[0mTk\u001b[0m\u001b[1;33m(\u001b[0m\u001b[1;33m)\u001b[0m\u001b[1;33m\u001b[0m\u001b[1;33m\u001b[0m\u001b[0m\n\u001b[0;32m      5\u001b[0m \u001b[0mphoto\u001b[0m \u001b[1;33m=\u001b[0m \u001b[0mPhotoImage\u001b[0m\u001b[1;33m(\u001b[0m\u001b[0mfile\u001b[0m \u001b[1;33m=\u001b[0m \u001b[1;34m\"bg1.png\"\u001b[0m\u001b[1;33m)\u001b[0m\u001b[1;33m\u001b[0m\u001b[1;33m\u001b[0m\u001b[0m\n\u001b[1;32m----> 6\u001b[1;33m \u001b[0mw\u001b[0m \u001b[1;33m=\u001b[0m \u001b[0mLabel\u001b[0m\u001b[1;33m(\u001b[0m\u001b[0mroot\u001b[0m\u001b[1;33m,\u001b[0m \u001b[0mimage\u001b[0m\u001b[1;33m=\u001b[0m\u001b[0mphoto\u001b[0m\u001b[1;33m)\u001b[0m\u001b[1;33m\u001b[0m\u001b[1;33m\u001b[0m\u001b[0m\n\u001b[0m\u001b[0;32m      7\u001b[0m \u001b[0mw\u001b[0m\u001b[1;33m.\u001b[0m\u001b[0mpack\u001b[0m\u001b[1;33m(\u001b[0m\u001b[1;33m)\u001b[0m\u001b[1;33m\u001b[0m\u001b[1;33m\u001b[0m\u001b[0m\n\u001b[0;32m      8\u001b[0m \u001b[0ment\u001b[0m \u001b[1;33m=\u001b[0m \u001b[0mEntry\u001b[0m\u001b[1;33m(\u001b[0m\u001b[0mroot\u001b[0m\u001b[1;33m)\u001b[0m\u001b[1;33m\u001b[0m\u001b[1;33m\u001b[0m\u001b[0m\n",
      "\u001b[1;32m~\\Anaconda3\\lib\\tkinter\\__init__.py\u001b[0m in \u001b[0;36m__init__\u001b[1;34m(self, master, cnf, **kw)\u001b[0m\n\u001b[0;32m   2764\u001b[0m \u001b[1;33m\u001b[0m\u001b[0m\n\u001b[0;32m   2765\u001b[0m         \"\"\"\n\u001b[1;32m-> 2766\u001b[1;33m         \u001b[0mWidget\u001b[0m\u001b[1;33m.\u001b[0m\u001b[0m__init__\u001b[0m\u001b[1;33m(\u001b[0m\u001b[0mself\u001b[0m\u001b[1;33m,\u001b[0m \u001b[0mmaster\u001b[0m\u001b[1;33m,\u001b[0m \u001b[1;34m'label'\u001b[0m\u001b[1;33m,\u001b[0m \u001b[0mcnf\u001b[0m\u001b[1;33m,\u001b[0m \u001b[0mkw\u001b[0m\u001b[1;33m)\u001b[0m\u001b[1;33m\u001b[0m\u001b[1;33m\u001b[0m\u001b[0m\n\u001b[0m\u001b[0;32m   2767\u001b[0m \u001b[1;33m\u001b[0m\u001b[0m\n\u001b[0;32m   2768\u001b[0m \u001b[1;32mclass\u001b[0m \u001b[0mListbox\u001b[0m\u001b[1;33m(\u001b[0m\u001b[0mWidget\u001b[0m\u001b[1;33m,\u001b[0m \u001b[0mXView\u001b[0m\u001b[1;33m,\u001b[0m \u001b[0mYView\u001b[0m\u001b[1;33m)\u001b[0m\u001b[1;33m:\u001b[0m\u001b[1;33m\u001b[0m\u001b[1;33m\u001b[0m\u001b[0m\n",
      "\u001b[1;32m~\\Anaconda3\\lib\\tkinter\\__init__.py\u001b[0m in \u001b[0;36m__init__\u001b[1;34m(self, master, widgetName, cnf, kw, extra)\u001b[0m\n\u001b[0;32m   2297\u001b[0m             \u001b[1;32mdel\u001b[0m \u001b[0mcnf\u001b[0m\u001b[1;33m[\u001b[0m\u001b[0mk\u001b[0m\u001b[1;33m]\u001b[0m\u001b[1;33m\u001b[0m\u001b[1;33m\u001b[0m\u001b[0m\n\u001b[0;32m   2298\u001b[0m         self.tk.call(\n\u001b[1;32m-> 2299\u001b[1;33m             (widgetName, self._w) + extra + self._options(cnf))\n\u001b[0m\u001b[0;32m   2300\u001b[0m         \u001b[1;32mfor\u001b[0m \u001b[0mk\u001b[0m\u001b[1;33m,\u001b[0m \u001b[0mv\u001b[0m \u001b[1;32min\u001b[0m \u001b[0mclasses\u001b[0m\u001b[1;33m:\u001b[0m\u001b[1;33m\u001b[0m\u001b[1;33m\u001b[0m\u001b[0m\n\u001b[0;32m   2301\u001b[0m             \u001b[0mk\u001b[0m\u001b[1;33m.\u001b[0m\u001b[0mconfigure\u001b[0m\u001b[1;33m(\u001b[0m\u001b[0mself\u001b[0m\u001b[1;33m,\u001b[0m \u001b[0mv\u001b[0m\u001b[1;33m)\u001b[0m\u001b[1;33m\u001b[0m\u001b[1;33m\u001b[0m\u001b[0m\n",
      "\u001b[1;31mTclError\u001b[0m: image \"pyimage2\" doesn't exist"
     ]
    }
   ],
   "source": [
    "#!/usr/bin/env python3\n",
    "# -*-coding: utf8-*-\n",
    "from tkinter import *\n",
    "root = Tk()\n",
    "photo = PhotoImage(file = \"bg1.png\")\n",
    "w = Label(root, image=photo)\n",
    "w.pack()\n",
    "ent = Entry(root)\n",
    "ent.pack()\n",
    "ent.focus_set() \n",
    "root.mainloop()\n"
   ]
  },
  {
   "cell_type": "code",
   "execution_count": 8,
   "metadata": {},
   "outputs": [],
   "source": [
    "from PIL import Image, ImageTk\n",
    "import tkinter as tk\n",
    "# Open the picture with PIL\n",
    "root = tk.Tk()\n",
    "img = Image.open('bg1.png')  \n",
    "# Generate a PhotoImage object via PIL and load it normally.\n",
    "photo = ImageTk.PhotoImage(img)\n",
    "label = tk.Label(root, image=photo)\n",
    "#label.img = photo # this line is not always needed, but include it anyway to prevent bugs\n",
    "#label.pack()\n",
    "\n",
    "root.mainloop()"
   ]
  },
  {
   "cell_type": "code",
   "execution_count": null,
   "metadata": {},
   "outputs": [],
   "source": []
  }
 ],
 "metadata": {
  "kernelspec": {
   "display_name": "Python 3",
   "language": "python",
   "name": "python3"
  },
  "language_info": {
   "codemirror_mode": {
    "name": "ipython",
    "version": 3
   },
   "file_extension": ".py",
   "mimetype": "text/x-python",
   "name": "python",
   "nbconvert_exporter": "python",
   "pygments_lexer": "ipython3",
   "version": "3.7.5"
  }
 },
 "nbformat": 4,
 "nbformat_minor": 2
}
